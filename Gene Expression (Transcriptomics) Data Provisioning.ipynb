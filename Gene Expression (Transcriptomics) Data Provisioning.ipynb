{
 "cells": [
  {
   "cell_type": "markdown",
   "metadata": {},
   "source": [
    "## 2. Gene Expression Data Provisioning\n",
    "\n",
    "The gene expression data was downloaded from the Cancer Genome Atlas (TCGA) data set using the cBio Portal for Cancer Genomics at http://www.cbioportal.org/index.do\n",
    "\n",
    "The list of matched official gene symbols from the lookup agains the proteomics value was used as a User-defined List for the query.\n",
    "\n",
    "Two data sets were downloaded:\n",
    "\n",
    "* Breast Invasive Carcinoma (TCGA, Nature 2012)\n",
    "* Breast Invasive Carcinoma (TCGA, Provisional)\n",
    "\n",
    "As the Nature data represents a published data set, it will be used in preference to the Provisional data but the second data set may be looked at if time permits."
   ]
  }
 ],
 "metadata": {
  "kernelspec": {
   "display_name": "Python 2",
   "language": "python",
   "name": "python2"
  },
  "language_info": {
   "codemirror_mode": {
    "name": "ipython",
    "version": 2
   },
   "file_extension": ".py",
   "mimetype": "text/x-python",
   "name": "python",
   "nbconvert_exporter": "python",
   "pygments_lexer": "ipython2",
   "version": "2.7.14"
  }
 },
 "nbformat": 4,
 "nbformat_minor": 2
}
